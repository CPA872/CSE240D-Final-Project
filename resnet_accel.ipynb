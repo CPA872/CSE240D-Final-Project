{
 "cells": [
  {
   "cell_type": "code",
   "execution_count": 1,
   "id": "84f15a28-6576-43ce-90a4-7529c60e2aea",
   "metadata": {},
   "outputs": [
    {
     "name": "stderr",
     "output_type": "stream",
     "text": [
      "/home/dpan/.conda/envs/pynq/lib/python3.9/site-packages/pydantic/_internal/_config.py:317: UserWarning: Valid config keys have changed in V2:\n",
      "* 'underscore_attrs_are_private' has been removed\n",
      "  warnings.warn(message, UserWarning)\n",
      "/home/dpan/.conda/envs/pynq/lib/python3.9/site-packages/pydantic/_internal/_config.py:317: UserWarning: Valid config keys have changed in V2:\n",
      "* 'underscore_attrs_are_private' has been removed\n",
      "  warnings.warn(message, UserWarning)\n"
     ]
    },
    {
     "name": "stdout",
     "output_type": "stream",
     "text": [
      "Using PYNQ 3.0.1\n",
      "Architecture:        x86_64\n",
      "CPU op-mode(s):      32-bit, 64-bit\n",
      "Byte Order:          Little Endian\n",
      "CPU(s):              16\n",
      "On-line CPU(s) list: 0-15\n",
      "Thread(s) per core:  2\n",
      "Core(s) per socket:  8\n",
      "Socket(s):           1\n",
      "NUMA node(s):        1\n",
      "Vendor ID:           GenuineIntel\n",
      "CPU family:          6\n",
      "Model:               167\n",
      "Model name:          11th Gen Intel(R) Core(TM) i7-11700K @ 3.60GHz\n",
      "Stepping:            1\n",
      "CPU MHz:             4883.768\n",
      "CPU max MHz:         5000.0000\n",
      "CPU min MHz:         800.0000\n",
      "BogoMIPS:            7200.00\n",
      "Virtualization:      VT-x\n",
      "L1d cache:           48K\n",
      "L1i cache:           32K\n",
      "L2 cache:            512K\n",
      "L3 cache:            16384K\n",
      "NUMA node0 CPU(s):   0-15\n",
      "Flags:               fpu vme de pse tsc msr pae mce cx8 apic sep mtrr pge mca cmov pat pse36 clflush dts acpi mmx fxsr sse sse2 ss ht tm pbe syscall nx pdpe1gb rdtscp lm constant_tsc art arch_perfmon pebs bts rep_good nopl xtopology nonstop_tsc cpuid aperfmperf tsc_known_freq pni pclmulqdq dtes64 monitor ds_cpl vmx smx est tm2 ssse3 sdbg fma cx16 xtpr pdcm pcid sse4_1 sse4_2 x2apic movbe popcnt tsc_deadline_timer aes xsave avx f16c rdrand lahf_lm abm 3dnowprefetch cpuid_fault invpcid_single ssbd ibrs ibpb stibp ibrs_enhanced tpr_shadow vnmi flexpriority ept vpid ept_ad fsgsbase tsc_adjust bmi1 avx2 smep bmi2 erms invpcid mpx avx512f avx512dq rdseed adx smap avx512ifma clflushopt intel_pt avx512cd sha_ni avx512bw avx512vl xsaveopt xsavec xgetbv1 xsaves dtherm ida arat pln pts hwp hwp_notify hwp_act_window hwp_epp hwp_pkg_req avx512vbmi umip pku ospke avx512_vbmi2 gfni vaes vpclmulqdq avx512_vnni avx512_bitalg avx512_vpopcntdq rdpid fsrm md_clear flush_l1d arch_capabilities\n"
     ]
    }
   ],
   "source": [
    "import pynq\n",
    "import torch\n",
    "import torchvision\n",
    "import time\n",
    "import numpy as np\n",
    "import matplotlib.pyplot as plt\n",
    "\n",
    "from copy import deepcopy\n",
    "\n",
    "print(f\"Using PYNQ {pynq.__version__}\")\n",
    "!lscpu"
   ]
  },
  {
   "cell_type": "code",
   "execution_count": 2,
   "id": "870dc312-974c-4d0e-a360-bb207e0699b0",
   "metadata": {},
   "outputs": [
    {
     "data": {
      "application/javascript": "\ntry {\nrequire(['notebook/js/codecell'], function(codecell) {\n  codecell.CodeCell.options_default.highlight_modes[\n      'magic_text/x-csrc'] = {'reg':[/^%%microblaze/]};\n  Jupyter.notebook.events.one('kernel_ready.Kernel', function(){\n      Jupyter.notebook.get_cells().map(function(cell){\n          if (cell.cell_type == 'code'){ cell.auto_highlight(); } }) ;\n  });\n});\n} catch (e) {};\n"
     },
     "metadata": {},
     "output_type": "display_data"
    },
    {
     "data": {
      "application/javascript": "\ntry {\nrequire(['notebook/js/codecell'], function(codecell) {\n  codecell.CodeCell.options_default.highlight_modes[\n      'magic_text/x-csrc'] = {'reg':[/^%%pybind11/]};\n  Jupyter.notebook.events.one('kernel_ready.Kernel', function(){\n      Jupyter.notebook.get_cells().map(function(cell){\n          if (cell.cell_type == 'code'){ cell.auto_highlight(); } }) ;\n  });\n});\n} catch (e) {};\n"
     },
     "metadata": {},
     "output_type": "display_data"
    }
   ],
   "source": [
    "XCLBIN_PATH = \"/home/dpan/project_240d/gemm_hls/build/MatrixMultiplication_hw.xclbin\"\n",
    "\n",
    "ol = pynq.Overlay(XCLBIN_PATH)\n",
    "mm_kernel = ol.MatrixMultiplicationKernel_1\n"
   ]
  },
  {
   "cell_type": "code",
   "execution_count": 3,
   "id": "03af12d2-1827-4745-8bb1-dc9c366987f2",
   "metadata": {},
   "outputs": [
    {
     "name": "stdout",
     "output_type": "stream",
     "text": [
      "(512, 1024) (1024, 50176) (512, 50176)\n",
      "(512, 1024) (1024, 50176) (512, 50176)\n",
      "Equal: True, err=2.2233123779296875\n",
      "Kernel took 0.7188s, throughput: 34.08467264461544 GFLOPS\n",
      "CPU reference time 0.1481s\n"
     ]
    }
   ],
   "source": [
    "N = 512\n",
    "K = 1024\n",
    "M = 50176\n",
    "\n",
    "A = pynq.allocate(shape=(N, K), dtype=np.float32)\n",
    "B = pynq.allocate(shape=(K, M), dtype=np.float32)\n",
    "C = pynq.allocate(shape=(N, M), dtype=np.float32)\n",
    "\n",
    "A[:] = np.random.rand(N, K)\n",
    "B[:] = np.random.rand(K, M)\n",
    "\n",
    "print(A.shape, B.shape, C.shape)\n",
    "\n",
    "A.sync_to_device()\n",
    "B.sync_to_device()\n",
    "C.sync_to_device()\n",
    "\n",
    "start = time.time()\n",
    "mm_kernel.call(A, B, C, N, K, M)\n",
    "elapsed = time.time() - start\n",
    "\n",
    "C.sync_from_device()\n",
    "\n",
    "cpu_start = time.time()\n",
    "truth = A @ B\n",
    "cpu_elapsed = time.time() - cpu_start\n",
    "\n",
    "print(A.shape, B.shape, C.shape)\n",
    "\n",
    "err = np.sum(truth - C)\n",
    "print(f\"Equal: {np.isclose(truth, C).all()}, err={err}\")\n",
    "print(f\"Kernel took {elapsed:.4f}s, throughput: {N * K * M / (1 << 30) / elapsed} GFLOPS\")\n",
    "print(f\"CPU reference time {cpu_elapsed:.4f}s\")"
   ]
  },
  {
   "cell_type": "code",
   "execution_count": null,
   "id": "2b77d41a",
   "metadata": {},
   "outputs": [
    {
     "ename": "NameError",
     "evalue": "name '_A' is not defined",
     "output_type": "error",
     "traceback": [
      "\u001b[0;31m---------------------------------------------------------------------------\u001b[0m",
      "\u001b[0;31mNameError\u001b[0m                                 Traceback (most recent call last)",
      "Cell \u001b[0;32mIn[23], line 3\u001b[0m\n\u001b[1;32m      1\u001b[0m MEM_GRANULARITY \u001b[38;5;241m=\u001b[39m \u001b[38;5;241m512\u001b[39m\n\u001b[0;32m----> 3\u001b[0m N, K \u001b[38;5;241m=\u001b[39m \u001b[43m_A\u001b[49m\u001b[38;5;241m.\u001b[39mshape\n\u001b[1;32m      4\u001b[0m K, M \u001b[38;5;241m=\u001b[39m _B\u001b[38;5;241m.\u001b[39mshape\n\u001b[1;32m      6\u001b[0m Nd \u001b[38;5;241m=\u001b[39m N \u001b[38;5;28;01mif\u001b[39;00m N \u001b[38;5;241m/\u001b[39m\u001b[38;5;241m/\u001b[39m MEM_GRANULARITY \u001b[38;5;241m==\u001b[39m \u001b[38;5;241m0\u001b[39m \u001b[38;5;28;01melse\u001b[39;00m N \u001b[38;5;241m/\u001b[39m\u001b[38;5;241m/\u001b[39m MEM_GRANULARITY \u001b[38;5;241m+\u001b[39m MEM_GRANULARITY\n",
      "\u001b[0;31mNameError\u001b[0m: name '_A' is not defined"
     ]
    }
   ],
   "source": [
    "MEM_GRANULARITY = 512\n",
    "\n",
    "N, K = _A.shape\n",
    "K, M = _B.shape\n",
    "\n",
    "Nd = N if N // MEM_GRANULARITY == 0 else N // MEM_GRANULARITY + MEM_GRANULARITY\n",
    "Kd = K if K // MEM_GRANULARITY == 0 else K // MEM_GRANULARITY + MEM_GRANULARITY\n",
    "Md = M if M // MEM_GRANULARITY == 0 else M // MEM_GRANULARITY + MEM_GRANULARITY\n",
    "\n",
    "print(Nd, Kd, Md)\n",
    "\n",
    "A = pynq.allocate(shape=(N, K), dtype=np.float32)\n",
    "B = pynq.allocate(shape=(K, M), dtype=np.float32)\n",
    "C = pynq.allocate(shape=(N, M), dtype=np.float32)\n",
    "\n",
    "A[:] = _A[:]\n",
    "B[:] = _B[:]\n",
    "\n",
    "print(A.shape, B.shape, C.shape)\n",
    "\n",
    "A.sync_to_device()\n",
    "B.sync_to_device()\n",
    "C.sync_to_device()"
   ]
  },
  {
   "cell_type": "code",
   "execution_count": 3,
   "id": "7021638a-44c3-44e3-ad5c-f197428346b4",
   "metadata": {},
   "outputs": [
    {
     "ename": "NameError",
     "evalue": "name 'ol' is not defined",
     "output_type": "error",
     "traceback": [
      "\u001b[0;31m---------------------------------------------------------------------------\u001b[0m",
      "\u001b[0;31mNameError\u001b[0m                                 Traceback (most recent call last)",
      "Cell \u001b[0;32mIn[3], line 1\u001b[0m\n\u001b[0;32m----> 1\u001b[0m \u001b[43mol\u001b[49m\u001b[38;5;241m.\u001b[39mfree()\n",
      "\u001b[0;31mNameError\u001b[0m: name 'ol' is not defined"
     ]
    }
   ],
   "source": [
    "ol.free()"
   ]
  },
  {
   "cell_type": "code",
   "execution_count": null,
   "id": "67de5620-a83a-4d13-a745-5c71a703a4f4",
   "metadata": {},
   "outputs": [],
   "source": []
  }
 ],
 "metadata": {
  "kernelspec": {
   "display_name": "Python 3 (ipykernel)",
   "language": "python",
   "name": "python3"
  },
  "language_info": {
   "codemirror_mode": {
    "name": "ipython",
    "version": 3
   },
   "file_extension": ".py",
   "mimetype": "text/x-python",
   "name": "python",
   "nbconvert_exporter": "python",
   "pygments_lexer": "ipython3",
   "version": "3.9.18"
  }
 },
 "nbformat": 4,
 "nbformat_minor": 5
}
